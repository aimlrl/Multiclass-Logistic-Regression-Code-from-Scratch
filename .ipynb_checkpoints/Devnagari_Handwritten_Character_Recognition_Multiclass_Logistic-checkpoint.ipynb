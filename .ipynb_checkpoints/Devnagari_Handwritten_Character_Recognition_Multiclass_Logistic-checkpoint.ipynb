{
 "cells": [
  {
   "cell_type": "code",
   "execution_count": null,
   "metadata": {},
   "outputs": [],
   "source": [
    "import pandas as pd\n",
    "import numpy as np\n",
    "import scipy.stats as s\n",
    "import os"
   ]
  },
  {
   "cell_type": "code",
   "execution_count": null,
   "metadata": {},
   "outputs": [],
   "source": [
    "base_path = \"./DevanagariHandwrittenCharacterDataset/Train\""
   ]
  },
  {
   "cell_type": "code",
   "execution_count": null,
   "metadata": {},
   "outputs": [],
   "source": [
    "list_of_folders = os.listdir(base_path)"
   ]
  },
  {
   "cell_type": "code",
   "execution_count": null,
   "metadata": {},
   "outputs": [],
   "source": [
    "import matplotlib.pyplot as plt"
   ]
  },
  {
   "cell_type": "code",
   "execution_count": null,
   "metadata": {},
   "outputs": [],
   "source": [
    "def image_stretching(one_image_path):\n",
    "    \n",
    "    image_matrix = plt.imread(one_image_path)\n",
    "    \n",
    "    image_matrix = image_matrix.reshape(1,1024)\n",
    "    \n",
    "    return image_matrix"
   ]
  },
  {
   "cell_type": "code",
   "execution_count": null,
   "metadata": {},
   "outputs": [],
   "source": [
    "stacked_up_images = []\n",
    "\n",
    "for one_folder in list_of_folders:\n",
    "    \n",
    "    one_folder_path = os.path.join(base_path,one_folder)\n",
    "    \n",
    "    list_of_images_one_folder = os.listdir(one_folder_path)\n",
    "    \n",
    "    stacked_up_images.extend(map(lambda x: image_stretching(os.path.join(one_folder_path,x)),list_of_images_one_folder))"
   ]
  },
  {
   "cell_type": "code",
   "execution_count": null,
   "metadata": {},
   "outputs": [],
   "source": [
    "len(stacked_up_images)"
   ]
  },
  {
   "cell_type": "code",
   "execution_count": null,
   "metadata": {},
   "outputs": [],
   "source": [
    "stacked_up_images = np.array(stacked_up_images)"
   ]
  },
  {
   "cell_type": "code",
   "execution_count": null,
   "metadata": {},
   "outputs": [],
   "source": [
    "stacked_up_images.shape"
   ]
  },
  {
   "cell_type": "code",
   "execution_count": null,
   "metadata": {},
   "outputs": [],
   "source": [
    "stacked_up_images = stacked_up_images.reshape(78200,1024)"
   ]
  },
  {
   "cell_type": "code",
   "execution_count": null,
   "metadata": {},
   "outputs": [],
   "source": [
    "training_data = pd.DataFrame(stacked_up_images)"
   ]
  },
  {
   "cell_type": "code",
   "execution_count": null,
   "metadata": {},
   "outputs": [],
   "source": [
    "labels = []\n",
    "\n",
    "labels.extend(map(lambda x: x*np.ones((1700,1)),np.arange(0,46)))"
   ]
  },
  {
   "cell_type": "code",
   "execution_count": null,
   "metadata": {},
   "outputs": [],
   "source": [
    "labels = np.concatenate(labels)"
   ]
  },
  {
   "cell_type": "code",
   "execution_count": null,
   "metadata": {},
   "outputs": [],
   "source": [
    "labels"
   ]
  },
  {
   "cell_type": "code",
   "execution_count": null,
   "metadata": {},
   "outputs": [],
   "source": [
    "labels.shape"
   ]
  },
  {
   "cell_type": "code",
   "execution_count": null,
   "metadata": {},
   "outputs": [],
   "source": [
    "training_data['labels'] = labels"
   ]
  },
  {
   "cell_type": "code",
   "execution_count": null,
   "metadata": {},
   "outputs": [],
   "source": [
    "training_data"
   ]
  },
  {
   "cell_type": "code",
   "execution_count": null,
   "metadata": {},
   "outputs": [],
   "source": [
    "training_data['labels']"
   ]
  },
  {
   "cell_type": "code",
   "execution_count": null,
   "metadata": {},
   "outputs": [],
   "source": [
    "labels = np.array(training_data['labels'])"
   ]
  },
  {
   "cell_type": "code",
   "execution_count": null,
   "metadata": {},
   "outputs": [],
   "source": [
    "labels = labels.reshape(labels.shape[0],1)"
   ]
  },
  {
   "cell_type": "code",
   "execution_count": null,
   "metadata": {},
   "outputs": [],
   "source": [
    "labels.shape"
   ]
  },
  {
   "cell_type": "code",
   "execution_count": null,
   "metadata": {},
   "outputs": [],
   "source": [
    "labels = np.uint8(labels)"
   ]
  },
  {
   "cell_type": "code",
   "execution_count": null,
   "metadata": {},
   "outputs": [],
   "source": [
    "labels"
   ]
  },
  {
   "cell_type": "code",
   "execution_count": null,
   "metadata": {},
   "outputs": [],
   "source": [
    "I = np.eye(46,46)"
   ]
  },
  {
   "cell_type": "code",
   "execution_count": null,
   "metadata": {},
   "outputs": [],
   "source": [
    "print(I)"
   ]
  },
  {
   "cell_type": "code",
   "execution_count": null,
   "metadata": {},
   "outputs": [],
   "source": [
    "O = I[labels]"
   ]
  },
  {
   "cell_type": "code",
   "execution_count": null,
   "metadata": {},
   "outputs": [],
   "source": [
    "O = O.reshape(78200,46)"
   ]
  },
  {
   "cell_type": "code",
   "execution_count": null,
   "metadata": {},
   "outputs": [],
   "source": [
    "O.shape"
   ]
  },
  {
   "cell_type": "code",
   "execution_count": null,
   "metadata": {},
   "outputs": [],
   "source": [
    "O[0:1700,:]"
   ]
  },
  {
   "cell_type": "code",
   "execution_count": null,
   "metadata": {},
   "outputs": [],
   "source": [
    "O[1700:3399,:]"
   ]
  },
  {
   "cell_type": "code",
   "execution_count": null,
   "metadata": {},
   "outputs": [],
   "source": [
    "O.shape"
   ]
  },
  {
   "cell_type": "code",
   "execution_count": null,
   "metadata": {},
   "outputs": [],
   "source": [
    "X = training_data.drop(['labels'],axis=1)"
   ]
  },
  {
   "cell_type": "code",
   "execution_count": null,
   "metadata": {},
   "outputs": [],
   "source": [
    "X = np.array(X)"
   ]
  },
  {
   "cell_type": "code",
   "execution_count": null,
   "metadata": {},
   "outputs": [],
   "source": [
    "X.shape"
   ]
  },
  {
   "cell_type": "code",
   "execution_count": null,
   "metadata": {},
   "outputs": [],
   "source": [
    "sigma = np.cov(X,rowvar=False)"
   ]
  },
  {
   "cell_type": "code",
   "execution_count": null,
   "metadata": {},
   "outputs": [],
   "source": [
    "def pca_reduced_data(whole_data_single_cov_mat,preserved_variance):\n",
    "    \n",
    "    svd_factorized_matrix = np.linalg.svd(whole_data_single_cov_mat)\n",
    "    \n",
    "    eig_vals_total = np.sum(svd_factorized_matrix[1])\n",
    "    \n",
    "    eig_vals_sum = 0\n",
    "    \n",
    "    i = 0\n",
    "    \n",
    "    for lmda in svd_factorized_matrix[1]:\n",
    "        \n",
    "        if eig_vals_sum/eig_vals_total > preserved_variance:\n",
    "            \n",
    "            break\n",
    "        \n",
    "        i+=1\n",
    "        \n",
    "        eig_vals_sum += lmda\n",
    "        \n",
    "    eig_vecs = svd_factorized_matrix[0][:,0:i]\n",
    "    \n",
    "    training_examples = X\n",
    "    \n",
    "    reduced_training_examples = np.matmul(training_examples,eig_vecs)\n",
    "    \n",
    "    return reduced_training_examples,eig_vecs"
   ]
  },
  {
   "cell_type": "code",
   "execution_count": null,
   "metadata": {},
   "outputs": [],
   "source": [
    "normalized_data,eig_vecs_final = pca_reduced_data(sigma,0.95)"
   ]
  },
  {
   "cell_type": "code",
   "execution_count": null,
   "metadata": {},
   "outputs": [],
   "source": [
    "normalized_data.shape"
   ]
  },
  {
   "cell_type": "code",
   "execution_count": null,
   "metadata": {},
   "outputs": [],
   "source": [
    "M = O.shape[1]\n",
    "\n",
    "N_train = O.shape[0]\n",
    "\n",
    "N = normalized_data.shape[1]"
   ]
  },
  {
   "cell_type": "code",
   "execution_count": null,
   "metadata": {},
   "outputs": [],
   "source": [
    "M"
   ]
  },
  {
   "cell_type": "code",
   "execution_count": null,
   "metadata": {},
   "outputs": [],
   "source": [
    "N_train"
   ]
  },
  {
   "cell_type": "code",
   "execution_count": null,
   "metadata": {},
   "outputs": [],
   "source": [
    "N"
   ]
  },
  {
   "cell_type": "code",
   "execution_count": null,
   "metadata": {},
   "outputs": [],
   "source": [
    "def P(theta0,theta,normalized_data):\n",
    "    \n",
    "    U = np.exp(theta0 + np.matmul(normalized_data,theta))\n",
    "    \n",
    "    S = np.sum(U,axis=1).reshape(78200,1)\n",
    "    \n",
    "    return U/S"
   ]
  },
  {
   "cell_type": "code",
   "execution_count": null,
   "metadata": {},
   "outputs": [],
   "source": [
    "def neg_log_loss(O,P):\n",
    "    \n",
    "    O_logP = np.log(P) * O\n",
    "    \n",
    "    return -np.mean(np.sum(O_logP,axis=1))"
   ]
  },
  {
   "cell_type": "code",
   "execution_count": null,
   "metadata": {},
   "outputs": [],
   "source": [
    "def derivatives(normalized_data,P,O):\n",
    "    \n",
    "    del_theta0 = (1/N_train) * np.sum((O-P),axis=0)\n",
    "    \n",
    "    del_theta = (1/N_train) * np.matmul(normalized_data.T,(O-P))\n",
    "    \n",
    "    return del_theta0,del_theta"
   ]
  },
  {
   "cell_type": "code",
   "execution_count": null,
   "metadata": {},
   "outputs": [],
   "source": [
    "tol = 10**(-6)\n",
    "\n",
    "step_size = 1.1\n",
    "\n",
    "theta0_initial = np.random.randn(1,M)\n",
    "\n",
    "theta_initial = np.random.randn(N,M)\n",
    "\n",
    "iterations = []\n",
    "\n",
    "neg_log_loss_history = []\n",
    "\n",
    "i = 0\n",
    "\n",
    "while(True):\n",
    "    \n",
    "    P_initial = P(theta0_initial,theta_initial,normalized_data)\n",
    "    \n",
    "    del_theta0_initial, del_theta_initial = derivatives(normalized_data,P_initial,O)\n",
    "    \n",
    "    \n",
    "    \n",
    "    theta0_final = theta0_initial + step_size *(del_theta0_initial)\n",
    "    \n",
    "    theta_final = theta_initial + step_size *(del_theta_initial)\n",
    "    \n",
    "    \n",
    "    P_final = P(theta0_final,theta_final,normalized_data)\n",
    "    \n",
    "    \n",
    "    \n",
    "    neg_log_loss_initial = neg_log_loss(O,P_initial)\n",
    "    \n",
    "    neg_log_loss_final = neg_log_loss(O,P_final)\n",
    "    \n",
    "    \n",
    "    \n",
    "    if abs(neg_log_loss_final - neg_log_loss_initial) < tol:\n",
    "        \n",
    "        break\n",
    "        \n",
    "    \n",
    "    theta0_initial = theta0_final\n",
    "    \n",
    "    theta_initial = theta_final\n",
    "    \n",
    "    \n",
    "    iterations.append(i)\n",
    "    \n",
    "    neg_log_loss_history.append(neg_log_loss_initial)\n",
    "    \n",
    "    print(\"iteration # =\",i,\"and neg log loss =\",neg_log_loss_initial)\n",
    "    \n",
    "    i += 1"
   ]
  },
  {
   "cell_type": "code",
   "execution_count": null,
   "metadata": {},
   "outputs": [],
   "source": [
    "P_trained = P(theta0_final,theta_final,normalized_data)"
   ]
  },
  {
   "cell_type": "code",
   "execution_count": null,
   "metadata": {},
   "outputs": [],
   "source": [
    "P_trained.shape"
   ]
  },
  {
   "cell_type": "code",
   "execution_count": null,
   "metadata": {},
   "outputs": [],
   "source": [
    "predicted_classes_train = np.argmax(P_trained,axis=1)"
   ]
  },
  {
   "cell_type": "code",
   "execution_count": null,
   "metadata": {},
   "outputs": [],
   "source": [
    "predicted_classes_train = predicted_classes_train.reshape(predicted_classes_train.shape[0],1)"
   ]
  },
  {
   "cell_type": "code",
   "execution_count": null,
   "metadata": {},
   "outputs": [],
   "source": [
    "actual_classes_train = np.argmax(O,axis=1)"
   ]
  },
  {
   "cell_type": "code",
   "execution_count": null,
   "metadata": {},
   "outputs": [],
   "source": [
    "actual_classes_train = actual_classes_train.reshape(actual_classes_train.shape[0],1)"
   ]
  },
  {
   "cell_type": "code",
   "execution_count": null,
   "metadata": {},
   "outputs": [],
   "source": [
    "correct_count = np.count_nonzero(np.equal(predicted_classes_train,actual_classes_train))"
   ]
  },
  {
   "cell_type": "code",
   "execution_count": null,
   "metadata": {},
   "outputs": [],
   "source": [
    "correct_count"
   ]
  },
  {
   "cell_type": "code",
   "execution_count": null,
   "metadata": {},
   "outputs": [],
   "source": []
  }
 ],
 "metadata": {
  "kernelspec": {
   "display_name": "Python 3",
   "language": "python",
   "name": "python3"
  },
  "language_info": {
   "codemirror_mode": {
    "name": "ipython",
    "version": 3
   },
   "file_extension": ".py",
   "mimetype": "text/x-python",
   "name": "python",
   "nbconvert_exporter": "python",
   "pygments_lexer": "ipython3",
   "version": "3.8.5"
  }
 },
 "nbformat": 4,
 "nbformat_minor": 2
}
